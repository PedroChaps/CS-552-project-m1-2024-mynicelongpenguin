{
 "cells": [
  {
   "cell_type": "code",
   "execution_count": 27,
   "metadata": {},
   "outputs": [],
   "source": [
    "# Your API key (on the e-mail)\n",
    "# Andre: 4eadeb76-03d6-40cc-b858-27b0da441ac5\n",
    "# Pedro: 175accd9-4b3d-42a7-998e-85600fa3d1f4\n",
    "# Pierre: 7a1ed46e-6371-445e-a383-cc6ccf0525fd\n",
    "API_KEY = \"175accd9-4b3d-42a7-998e-85600fa3d1f4\" \n",
    "\n",
    "# Your sciper number. \n",
    "# Andre: 376762\n",
    "# Pedro: 374339\n",
    "# Pierre: 385070\n",
    "SCIPER = 374339 \n",
    "\n",
    "\n",
    "# To actually rank the preference pairs, or to not save anything (so we can e.g. adjust the prompt we pass to ChatGPT)\n",
    "playground = True\n",
    "\n",
    "import gpt_wrapper\n",
    "gpt_wrapper.api_base = \"http://mnlp-backend-938795011.eu-central-1.elb.amazonaws.com\"\n",
    "gpt_wrapper.api_key = API_KEY\n",
    "\n",
    "from gpt_wrapper.chat import Chat"
   ]
  },
  {
   "cell_type": "code",
   "execution_count": 76,
   "metadata": {},
   "outputs": [
    {
     "name": "stdout",
     "output_type": "stream",
     "text": [
      "Howdy! :D\n",
      "Missing 100 questions!\n"
     ]
    }
   ],
   "source": [
    "import json\n",
    "import random\n",
    "\n",
    "# Open json file\n",
    "questions = json.load(open(f\"data/{SCIPER}_base.json\"))\n",
    "progress_questions = json.load(open(f\"data/{SCIPER}.json\"))\n",
    "\n",
    "# Save a backup just in case\n",
    "with open(f\"data/{SCIPER}_bak.json\", \"w\") as f:\n",
    "    json.dump(progress_questions, f)\n",
    "\n",
    "num_questions = len(questions)\n",
    "num_progress = len(progress_questions)\n",
    "\n",
    "print(f\"Howdy! :D\")\n",
    "print(f\"Missing {num_questions - num_progress} questions!\")\n",
    "\n"
   ]
  },
  {
   "cell_type": "code",
   "execution_count": 69,
   "metadata": {},
   "outputs": [
    {
     "name": "stdout",
     "output_type": "stream",
     "text": [
      "{'course_id': 3, 'question_id': 6549, 'question_body': 'A particle of mass $m$ is subjected to a harmonic potential \\r\\n\\\\begin{equation}\\r\\n\\\\hat{V}= \\\\frac{1}{2}m\\\\omega^2 \\\\hat{x^2}\\r\\n\\\\end{equation}\\r\\nand, at time $t=0$ it is in a $|\\\\psi(t=0)\\\\rangle$ state determined by the following conditions:\\r\\n\\\\begin{enumerate}\\r\\n\\\\item each energy measurement gives certain values $E$ which satisfy the relation $ \\\\hbar \\\\omega < E < 3\\\\hbar \\\\omega $\\r\\n\\\\item the mean value of the energy is $ \\\\langle E \\\\rangle = \\\\frac{11}{6} \\\\hbar \\\\omega $\\r\\n\\\\item the mean value of the position is $ \\\\langle x \\\\rangle = -\\\\sqrt{\\\\frac{8\\\\hbar}{9m\\\\omega}} $\\r\\n\\\\end{enumerate}\\r\\nDetermine all the times $t>0$ when the average value of the position is positive and maximum. \\r\\n[Tip: in what follows, it may be useful to express the position operator in terms of the creation and destruction operators $\\\\hat{a}$ and $\\\\hat{a^{\\\\dagger}}$].', 'question_options': None}\n"
     ]
    }
   ],
   "source": [
    "print(questions[0])"
   ]
  },
  {
   "cell_type": "code",
   "execution_count": 20,
   "metadata": {},
   "outputs": [],
   "source": [
    "chat1 = Chat.create(\"Test Chat\")\n"
   ]
  },
  {
   "cell_type": "code",
   "execution_count": 24,
   "metadata": {},
   "outputs": [
    {
     "name": "stdout",
     "output_type": "stream",
     "text": [
      "You asked who won the FIFA championship in 2018.\n"
     ]
    }
   ],
   "source": [
    "print(chat1.ask(\"What did I ask?\"))"
   ]
  },
  {
   "cell_type": "code",
   "execution_count": 70,
   "metadata": {},
   "outputs": [],
   "source": [
    "# Create the template for the prompt that will be passed to ChatGPT\n",
    "# Leave the <question> tag where the question should be inserted, as it will later be replaced by the actual question\n",
    "template = \"\"\"\n",
    "I will give you a question and you will have to answer twice.\n",
    "If it is a open-ended question, please answer it in the following format:\n",
    "<A_START>A: `your first answer`<A_END>\n",
    "<B_START>B: `your second answer`<B_END>\n",
    "\n",
    "If I provide a multi-choice question, please answer it in the following format:\n",
    "<A_START>A: Choice `Just the number of your choice (i.e. the number behind the colon)`; `your first justification for your choice`<A_END>\n",
    "<B_START>B: Choice `Just the number of your choice (i.e. the number behind the colon)`; `your second justification for your choice`<B_END>\n",
    "\n",
    "\n",
    "The question is:\n",
    "<question>\n",
    "\"\"\"\n",
    "\n",
    "# Set the specific question you want to ask\n",
    "if playground:\n",
    "    num_progress = 0"
   ]
  },
  {
   "cell_type": "code",
   "execution_count": null,
   "metadata": {},
   "outputs": [],
   "source": []
  },
  {
   "cell_type": "code",
   "execution_count": 77,
   "metadata": {},
   "outputs": [
    {
     "name": "stdout",
     "output_type": "stream",
     "text": [
      "Asked:\n",
      "\n",
      "I will give you a question and you will have to answer twice.\n",
      "If it is a open-ended question, please answer it in the following format:\n",
      "<A_START>A: `your first answer`<A_END>\n",
      "<B_START>B: `your second answer`<B_END>\n",
      "\n",
      "If I provide a multi-choice question, please answer it in the following format:\n",
      "<A_START>A: Choice `Just the number of your choice (i.e. the number behind the colon)`; `your first justification for your choice`<A_END>\n",
      "<B_START>B: Choice `Just the number of your choice (i.e. the number behind the colon)`; `your second justification for your choice`<B_END>\n",
      "\n",
      "\n",
      "The question is:\n",
      "A particle of mass $m$ is subjected to a harmonic potential \n",
      "\\begin{equation}\n",
      "\\hat{V}= \\frac{1}{2}m\\omega^2 \\hat{x^2}\n",
      "\\end{equation}\n",
      "and, at time $t=0$ it is in a $|\\psi(t=0)\\rangle$ state determined by the following conditions:\n",
      "\\begin{enumerate}\n",
      "\\item each energy measurement gives certain values $E$ which satisfy the relation $ \\hbar \\omega < E < 3\\hbar \\omega $\n",
      "\\item the mean value of the energy is $ \\langle E \\rangle = \\frac{11}{6} \\hbar \\omega $\n",
      "\\item the mean value of the position is $ \\langle x \\rangle = -\\sqrt{\\frac{8\\hbar}{9m\\omega}} $\n",
      "\\end{enumerate}\n",
      "Determine all the times $t>0$ when the average value of the position is positive and maximum. \n",
      "[Tip: in what follows, it may be useful to express the position operator in terms of the creation and destruction operators $\\hat{a}$ and $\\hat{a^{\\dagger}}$].\n",
      "\n",
      "--------------\n",
      "Answered:\n",
      "<A_START>A: At time $t=0$, the particle is in a coherent state $|\\alpha\\rangle$<A_END>\n",
      "<B_START>B: The average value of position is positive and maximum at $t = \\frac{\\pi}{2\\omega}$ and $t = \\frac{3\\pi}{2\\omega}$<B_END>\n",
      "A = 'At time $t=0$, the particle is in a coherent state $|\\\\alpha\\\\rangle$'\n",
      "B = 'The average value of position is positive and maximum at $t = \\\\frac{\\\\pi}{2\\\\omega}$ and $t = \\\\frac{3\\\\pi}{2\\\\omega}$'\n",
      "[{'course_id': 3, 'question_id': 6549, 'question': 'A particle of mass $m$ is subjected to a harmonic potential \\r\\n\\\\begin{equation}\\r\\n\\\\hat{V}= \\\\frac{1}{2}m\\\\omega^2 \\\\hat{x^2}\\r\\n\\\\end{equation}\\r\\nand, at time $t=0$ it is in a $|\\\\psi(t=0)\\\\rangle$ state determined by the following conditions:\\r\\n\\\\begin{enumerate}\\r\\n\\\\item each energy measurement gives certain values $E$ which satisfy the relation $ \\\\hbar \\\\omega < E < 3\\\\hbar \\\\omega $\\r\\n\\\\item the mean value of the energy is $ \\\\langle E \\\\rangle = \\\\frac{11}{6} \\\\hbar \\\\omega $\\r\\n\\\\item the mean value of the position is $ \\\\langle x \\\\rangle = -\\\\sqrt{\\\\frac{8\\\\hbar}{9m\\\\omega}} $\\r\\n\\\\end{enumerate}\\r\\nDetermine all the times $t>0$ when the average value of the position is positive and maximum. \\r\\n[Tip: in what follows, it may be useful to express the position operator in terms of the creation and destruction operators $\\\\hat{a}$ and $\\\\hat{a^{\\\\dagger}}$].', 'A_chat_id': 10144, 'B_chat_id': 10144, 'A': 'At time $t=0$, the particle is in a coherent state $|\\\\alpha\\\\rangle$', 'B': 'The average value of position is positive and maximum at $t = \\\\frac{\\\\pi}{2\\\\omega}$ and $t = \\\\frac{3\\\\pi}{2\\\\omega}$', 'ranking_criteria': {'overall': 'B', 'correctness': 'B', 'relevance': 'B', 'clarity': 'AB', 'completeness': 'B', 'other': 'None'}}]\n"
     ]
    }
   ],
   "source": [
    "while num_progress < num_questions:\n",
    "\n",
    "    if playground:\n",
    "        chat = Chat.create(\"Playground chat \" + str(random.randint(0, 10000000000)))\n",
    "    else:\n",
    "        chat = Chat.create(\"Chat for question \" + str(num_progress) + \" \" + str(random.randint(0, 10000000000)))\n",
    "    \n",
    "    questionData = questions[num_progress]\n",
    "    \n",
    "    question = questionData[\"question_body\"]\n",
    "    if questionData[\"question_options\"] != None:\n",
    "        options = questionData[\"question_options\"]\n",
    "        for i, option in enumerate(options):\n",
    "            question += f\"\\n{i}: {option}\"\n",
    "    \n",
    "    toAsk = template.replace(\"<question>\", question)\n",
    "    \n",
    "    response = chat.ask(toAsk)\n",
    "    response_str = str(response)\n",
    "    \n",
    "    # Depending on the passed template, change this so that it extracts the answer from the response accordingly\n",
    "    A_start = response_str.find(\"<A_START>\") + len(\"<A_START>\")\n",
    "    A_end = response_str.find(\"<A_END>\")\n",
    "    B_start = response_str.find(\"<B_START>\") + len(\"<B_START>\")\n",
    "    B_end = response_str.find(\"<B_END>\")\n",
    "    \n",
    "    A = response_str[A_start:A_end].split(\"A: \")[1].strip()\n",
    "    B = response_str[B_start:B_end].split(\"B: \")[1].strip()\n",
    "\n",
    "    print(\"Asked:\")\n",
    "    print(toAsk)\n",
    "    print(\"--------------\")\n",
    "    print(\"Answered:\")\n",
    "    print(response)\n",
    "    print(f\"{A = }\")\n",
    "    print(f\"{B = }\")\n",
    "    \n",
    "    overall, correctness, relevance, clarity, completeness, other = -1, -1, -1, -1, -1, -1\n",
    "    while overall not in [\"A\", \"B\", \"AB\", \"N\"]:\n",
    "        overall = input(\"Overall ranking (A, B, AB, N for None): \")\n",
    "    while correctness not in [\"A\", \"B\", \"AB\", \"N\"]:\n",
    "        correctness = input(\"Correctness ranking (A, B, AB, N): \")\n",
    "    while relevance not in [\"A\", \"B\", \"AB\", \"N\"]:\n",
    "        relevance = input(\"Relevance ranking (A, B, AB, N): \")\n",
    "    while clarity not in [\"A\", \"B\", \"AB\", \"N\"]:\n",
    "        clarity = input(\"Clarity ranking (A, B, AB, N): \")\n",
    "    while completeness not in [\"A\", \"B\", \"AB\", \"N\"]:\n",
    "        completeness = input(\"Completeness ranking (A, B, AB, N): \")\n",
    "    \n",
    "    other = input(\"Other ranking (None or `<criteria1>: <A, B, AB>;<criteria2>: <A, B, AB>;...`): \")\n",
    "    \n",
    "    if overall == \"N\":\n",
    "        overall = \"None\"\n",
    "    if correctness == \"N\":\n",
    "        correctness = \"None\"\n",
    "    if relevance == \"N\":\n",
    "        relevance = \"None\"\n",
    "    if clarity == \"N\":\n",
    "        clarity = \"None\"\n",
    "    if completeness == \"N\":\n",
    "        completeness = \"None\"\n",
    "    if other == \"N\" or other == \"\":\n",
    "        other = \"None\"\n",
    "    \n",
    "    \n",
    "    progress_questions += [{\n",
    "        \"course_id\": questionData[\"course_id\"],\n",
    "        \"question_id\": questionData[\"question_id\"],\n",
    "        \"question\": questionData[\"question_body\"],\n",
    "        \n",
    "        \"A_chat_id\": response.chat_id,\n",
    "        \"B_chat_id\": response.chat_id,\n",
    "        \n",
    "        \"A\": A, \n",
    "        \"B\": B,\n",
    "        \n",
    "        \"ranking_criteria\": {\n",
    "            \"overall\": overall,  \n",
    "            \"correctness\": correctness,  \n",
    "            \"relevance\": relevance,  \n",
    "            \"clarity\": clarity,  \n",
    "            \"completeness\": completeness,  \n",
    "            \"other\": other,  \n",
    "        }\n",
    "    }] \n",
    "    \n",
    "    # Saves first to a backup file, then to the actual file\n",
    "    if not playground:\n",
    "        with open(f\"data/{SCIPER}_bak.json\", \"w\") as f:\n",
    "            json.dump(progress_questions, f)\n",
    "            \n",
    "        with open(f\"data/{SCIPER}.json\", \"w\") as f:\n",
    "            json.dump(progress_questions, f)\n",
    "\n",
    "        num_progress += 1\n",
    "        \n",
    "    break"
   ]
  }
 ],
 "metadata": {
  "kernelspec": {
   "display_name": "venv",
   "language": "python",
   "name": "python3"
  },
  "language_info": {
   "codemirror_mode": {
    "name": "ipython",
    "version": 3
   },
   "file_extension": ".py",
   "mimetype": "text/x-python",
   "name": "python",
   "nbconvert_exporter": "python",
   "pygments_lexer": "ipython3",
   "version": "3.10.12"
  }
 },
 "nbformat": 4,
 "nbformat_minor": 2
}
